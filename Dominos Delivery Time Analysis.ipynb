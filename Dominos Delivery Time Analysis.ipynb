{
 "cells": [
  {
   "cell_type": "code",
   "execution_count": 1,
   "id": "b00ccae1",
   "metadata": {},
   "outputs": [],
   "source": [
    "import pandas as pd\n",
    "import numpy as np"
   ]
  },
  {
   "cell_type": "code",
   "execution_count": 77,
   "id": "45f49d1f",
   "metadata": {},
   "outputs": [
    {
     "data": {
      "text/html": [
       "<div>\n",
       "<style scoped>\n",
       "    .dataframe tbody tr th:only-of-type {\n",
       "        vertical-align: middle;\n",
       "    }\n",
       "\n",
       "    .dataframe tbody tr th {\n",
       "        vertical-align: top;\n",
       "    }\n",
       "\n",
       "    .dataframe thead th {\n",
       "        text-align: right;\n",
       "    }\n",
       "</style>\n",
       "<table border=\"1\" class=\"dataframe\">\n",
       "  <thead>\n",
       "    <tr style=\"text-align: right;\">\n",
       "      <th></th>\n",
       "      <th>order_id</th>\n",
       "      <th>order_placed_at</th>\n",
       "      <th>order_delivered_at</th>\n",
       "    </tr>\n",
       "  </thead>\n",
       "  <tbody>\n",
       "    <tr>\n",
       "      <th>0</th>\n",
       "      <td>1523111</td>\n",
       "      <td>2023-03-01 00:00:59</td>\n",
       "      <td>2023-03-01 00:18:07.443132</td>\n",
       "    </tr>\n",
       "    <tr>\n",
       "      <th>1</th>\n",
       "      <td>1523112</td>\n",
       "      <td>2023-03-01 00:03:59</td>\n",
       "      <td>2023-03-01 00:19:34.925241</td>\n",
       "    </tr>\n",
       "    <tr>\n",
       "      <th>2</th>\n",
       "      <td>1523113</td>\n",
       "      <td>2023-03-01 00:07:22</td>\n",
       "      <td>2023-03-01 00:22:28.291385</td>\n",
       "    </tr>\n",
       "    <tr>\n",
       "      <th>3</th>\n",
       "      <td>1523114</td>\n",
       "      <td>2023-03-01 00:07:47</td>\n",
       "      <td>2023-03-01 00:46:19.019399</td>\n",
       "    </tr>\n",
       "    <tr>\n",
       "      <th>4</th>\n",
       "      <td>1523115</td>\n",
       "      <td>2023-03-01 00:09:03</td>\n",
       "      <td>2023-03-01 00:25:13.619056</td>\n",
       "    </tr>\n",
       "  </tbody>\n",
       "</table>\n",
       "</div>"
      ],
      "text/plain": [
       "   order_id      order_placed_at          order_delivered_at\n",
       "0   1523111  2023-03-01 00:00:59  2023-03-01 00:18:07.443132\n",
       "1   1523112  2023-03-01 00:03:59  2023-03-01 00:19:34.925241\n",
       "2   1523113  2023-03-01 00:07:22  2023-03-01 00:22:28.291385\n",
       "3   1523114  2023-03-01 00:07:47  2023-03-01 00:46:19.019399\n",
       "4   1523115  2023-03-01 00:09:03  2023-03-01 00:25:13.619056"
      ]
     },
     "execution_count": 77,
     "metadata": {},
     "output_type": "execute_result"
    }
   ],
   "source": [
    "df=pd.read_csv('D:\\PGP IN DATA SCIENCE with Careerera\\Data Sets\\innomatics\\dominos_data.csv')\n",
    "df.head()"
   ]
  },
  {
   "cell_type": "code",
   "execution_count": 31,
   "id": "0b25e008",
   "metadata": {},
   "outputs": [
    {
     "data": {
      "text/plain": [
       "(15000, 3)"
      ]
     },
     "execution_count": 31,
     "metadata": {},
     "output_type": "execute_result"
    }
   ],
   "source": [
    "df.shape"
   ]
  },
  {
   "cell_type": "code",
   "execution_count": 4,
   "id": "8b8ad564",
   "metadata": {},
   "outputs": [
    {
     "data": {
      "text/plain": [
       "Index(['order_id', 'order_placed_at', 'order_delivered_at'], dtype='object')"
      ]
     },
     "execution_count": 4,
     "metadata": {},
     "output_type": "execute_result"
    }
   ],
   "source": [
    "df.columns"
   ]
  },
  {
   "cell_type": "code",
   "execution_count": 5,
   "id": "b18568a2",
   "metadata": {},
   "outputs": [
    {
     "name": "stdout",
     "output_type": "stream",
     "text": [
      "<class 'pandas.core.frame.DataFrame'>\n",
      "RangeIndex: 15000 entries, 0 to 14999\n",
      "Data columns (total 3 columns):\n",
      " #   Column              Non-Null Count  Dtype \n",
      "---  ------              --------------  ----- \n",
      " 0   order_id            15000 non-null  int64 \n",
      " 1   order_placed_at     15000 non-null  object\n",
      " 2   order_delivered_at  15000 non-null  object\n",
      "dtypes: int64(1), object(2)\n",
      "memory usage: 351.7+ KB\n"
     ]
    }
   ],
   "source": [
    "df.info()"
   ]
  },
  {
   "cell_type": "markdown",
   "id": "fa97c6ca",
   "metadata": {},
   "source": [
    "#### Change the data type of order_placed_at and order-delivered_at to datetime"
   ]
  },
  {
   "cell_type": "code",
   "execution_count": 78,
   "id": "8edd38ec",
   "metadata": {},
   "outputs": [
    {
     "name": "stdout",
     "output_type": "stream",
     "text": [
      "<class 'pandas.core.frame.DataFrame'>\n",
      "RangeIndex: 15000 entries, 0 to 14999\n",
      "Data columns (total 3 columns):\n",
      " #   Column              Non-Null Count  Dtype         \n",
      "---  ------              --------------  -----         \n",
      " 0   order_id            15000 non-null  int64         \n",
      " 1   order_placed_at     15000 non-null  datetime64[ns]\n",
      " 2   order_delivered_at  15000 non-null  datetime64[ns]\n",
      "dtypes: datetime64[ns](2), int64(1)\n",
      "memory usage: 351.7 KB\n"
     ]
    }
   ],
   "source": [
    "df['order_delivered_at']=pd.to_datetime(df['order_delivered_at'])\n",
    "df['order_placed_at']=pd.to_datetime(df['order_placed_at'])\n",
    "df.info()"
   ]
  },
  {
   "cell_type": "code",
   "execution_count": 7,
   "id": "435897f5",
   "metadata": {},
   "outputs": [
    {
     "data": {
      "text/html": [
       "<div>\n",
       "<style scoped>\n",
       "    .dataframe tbody tr th:only-of-type {\n",
       "        vertical-align: middle;\n",
       "    }\n",
       "\n",
       "    .dataframe tbody tr th {\n",
       "        vertical-align: top;\n",
       "    }\n",
       "\n",
       "    .dataframe thead th {\n",
       "        text-align: right;\n",
       "    }\n",
       "</style>\n",
       "<table border=\"1\" class=\"dataframe\">\n",
       "  <thead>\n",
       "    <tr style=\"text-align: right;\">\n",
       "      <th></th>\n",
       "      <th>order_id</th>\n",
       "      <th>order_placed_at</th>\n",
       "      <th>order_delivered_at</th>\n",
       "    </tr>\n",
       "  </thead>\n",
       "  <tbody>\n",
       "    <tr>\n",
       "      <th>0</th>\n",
       "      <td>1523111</td>\n",
       "      <td>2023-03-01 00:00:59</td>\n",
       "      <td>2023-03-01 00:18:07.443132</td>\n",
       "    </tr>\n",
       "    <tr>\n",
       "      <th>1</th>\n",
       "      <td>1523112</td>\n",
       "      <td>2023-03-01 00:03:59</td>\n",
       "      <td>2023-03-01 00:19:34.925241</td>\n",
       "    </tr>\n",
       "    <tr>\n",
       "      <th>2</th>\n",
       "      <td>1523113</td>\n",
       "      <td>2023-03-01 00:07:22</td>\n",
       "      <td>2023-03-01 00:22:28.291385</td>\n",
       "    </tr>\n",
       "    <tr>\n",
       "      <th>3</th>\n",
       "      <td>1523114</td>\n",
       "      <td>2023-03-01 00:07:47</td>\n",
       "      <td>2023-03-01 00:46:19.019399</td>\n",
       "    </tr>\n",
       "    <tr>\n",
       "      <th>4</th>\n",
       "      <td>1523115</td>\n",
       "      <td>2023-03-01 00:09:03</td>\n",
       "      <td>2023-03-01 00:25:13.619056</td>\n",
       "    </tr>\n",
       "  </tbody>\n",
       "</table>\n",
       "</div>"
      ],
      "text/plain": [
       "   order_id     order_placed_at         order_delivered_at\n",
       "0   1523111 2023-03-01 00:00:59 2023-03-01 00:18:07.443132\n",
       "1   1523112 2023-03-01 00:03:59 2023-03-01 00:19:34.925241\n",
       "2   1523113 2023-03-01 00:07:22 2023-03-01 00:22:28.291385\n",
       "3   1523114 2023-03-01 00:07:47 2023-03-01 00:46:19.019399\n",
       "4   1523115 2023-03-01 00:09:03 2023-03-01 00:25:13.619056"
      ]
     },
     "execution_count": 7,
     "metadata": {},
     "output_type": "execute_result"
    }
   ],
   "source": [
    "df.head()"
   ]
  },
  {
   "cell_type": "code",
   "execution_count": 8,
   "id": "3a174f5a",
   "metadata": {},
   "outputs": [
    {
     "data": {
      "text/plain": [
       "order_id              0\n",
       "order_placed_at       0\n",
       "order_delivered_at    0\n",
       "dtype: int64"
      ]
     },
     "execution_count": 8,
     "metadata": {},
     "output_type": "execute_result"
    }
   ],
   "source": [
    "df.isna().sum()"
   ]
  },
  {
   "cell_type": "markdown",
   "id": "ef270b1a",
   "metadata": {},
   "source": [
    "#### No mising row."
   ]
  },
  {
   "cell_type": "code",
   "execution_count": null,
   "id": "a8780a1f",
   "metadata": {},
   "outputs": [],
   "source": []
  },
  {
   "cell_type": "markdown",
   "id": "8b18c617",
   "metadata": {},
   "source": [
    "## Performance Metric\n",
    "### `95th Percentile of Order Delivery time should be less than 31 mins.`"
   ]
  },
  {
   "cell_type": "markdown",
   "id": "aedc272a",
   "metadata": {},
   "source": [
    "### Create a column delivery_time"
   ]
  },
  {
   "cell_type": "code",
   "execution_count": 79,
   "id": "f1ef37a6",
   "metadata": {},
   "outputs": [
    {
     "data": {
      "text/html": [
       "<div>\n",
       "<style scoped>\n",
       "    .dataframe tbody tr th:only-of-type {\n",
       "        vertical-align: middle;\n",
       "    }\n",
       "\n",
       "    .dataframe tbody tr th {\n",
       "        vertical-align: top;\n",
       "    }\n",
       "\n",
       "    .dataframe thead th {\n",
       "        text-align: right;\n",
       "    }\n",
       "</style>\n",
       "<table border=\"1\" class=\"dataframe\">\n",
       "  <thead>\n",
       "    <tr style=\"text-align: right;\">\n",
       "      <th></th>\n",
       "      <th>order_id</th>\n",
       "      <th>order_placed_at</th>\n",
       "      <th>order_delivered_at</th>\n",
       "      <th>delivery_time</th>\n",
       "    </tr>\n",
       "  </thead>\n",
       "  <tbody>\n",
       "    <tr>\n",
       "      <th>0</th>\n",
       "      <td>1523111</td>\n",
       "      <td>2023-03-01 00:00:59</td>\n",
       "      <td>2023-03-01 00:18:07.443132</td>\n",
       "      <td>0 days 00:17:08.443132</td>\n",
       "    </tr>\n",
       "    <tr>\n",
       "      <th>1</th>\n",
       "      <td>1523112</td>\n",
       "      <td>2023-03-01 00:03:59</td>\n",
       "      <td>2023-03-01 00:19:34.925241</td>\n",
       "      <td>0 days 00:15:35.925241</td>\n",
       "    </tr>\n",
       "    <tr>\n",
       "      <th>2</th>\n",
       "      <td>1523113</td>\n",
       "      <td>2023-03-01 00:07:22</td>\n",
       "      <td>2023-03-01 00:22:28.291385</td>\n",
       "      <td>0 days 00:15:06.291385</td>\n",
       "    </tr>\n",
       "    <tr>\n",
       "      <th>3</th>\n",
       "      <td>1523114</td>\n",
       "      <td>2023-03-01 00:07:47</td>\n",
       "      <td>2023-03-01 00:46:19.019399</td>\n",
       "      <td>0 days 00:38:32.019399</td>\n",
       "    </tr>\n",
       "    <tr>\n",
       "      <th>4</th>\n",
       "      <td>1523115</td>\n",
       "      <td>2023-03-01 00:09:03</td>\n",
       "      <td>2023-03-01 00:25:13.619056</td>\n",
       "      <td>0 days 00:16:10.619056</td>\n",
       "    </tr>\n",
       "  </tbody>\n",
       "</table>\n",
       "</div>"
      ],
      "text/plain": [
       "   order_id     order_placed_at         order_delivered_at  \\\n",
       "0   1523111 2023-03-01 00:00:59 2023-03-01 00:18:07.443132   \n",
       "1   1523112 2023-03-01 00:03:59 2023-03-01 00:19:34.925241   \n",
       "2   1523113 2023-03-01 00:07:22 2023-03-01 00:22:28.291385   \n",
       "3   1523114 2023-03-01 00:07:47 2023-03-01 00:46:19.019399   \n",
       "4   1523115 2023-03-01 00:09:03 2023-03-01 00:25:13.619056   \n",
       "\n",
       "           delivery_time  \n",
       "0 0 days 00:17:08.443132  \n",
       "1 0 days 00:15:35.925241  \n",
       "2 0 days 00:15:06.291385  \n",
       "3 0 days 00:38:32.019399  \n",
       "4 0 days 00:16:10.619056  "
      ]
     },
     "execution_count": 79,
     "metadata": {},
     "output_type": "execute_result"
    }
   ],
   "source": [
    "df['delivery_time']=(df['order_delivered_at']-df['order_placed_at'])\n",
    "df.head()"
   ]
  },
  {
   "cell_type": "markdown",
   "id": "d1930de3",
   "metadata": {},
   "source": [
    "#### Make delivery time in minutes"
   ]
  },
  {
   "cell_type": "code",
   "execution_count": 80,
   "id": "f6f23772",
   "metadata": {},
   "outputs": [
    {
     "data": {
      "text/html": [
       "<div>\n",
       "<style scoped>\n",
       "    .dataframe tbody tr th:only-of-type {\n",
       "        vertical-align: middle;\n",
       "    }\n",
       "\n",
       "    .dataframe tbody tr th {\n",
       "        vertical-align: top;\n",
       "    }\n",
       "\n",
       "    .dataframe thead th {\n",
       "        text-align: right;\n",
       "    }\n",
       "</style>\n",
       "<table border=\"1\" class=\"dataframe\">\n",
       "  <thead>\n",
       "    <tr style=\"text-align: right;\">\n",
       "      <th></th>\n",
       "      <th>order_id</th>\n",
       "      <th>order_placed_at</th>\n",
       "      <th>order_delivered_at</th>\n",
       "      <th>delivery_time</th>\n",
       "    </tr>\n",
       "  </thead>\n",
       "  <tbody>\n",
       "    <tr>\n",
       "      <th>0</th>\n",
       "      <td>1523111</td>\n",
       "      <td>2023-03-01 00:00:59</td>\n",
       "      <td>2023-03-01 00:18:07.443132</td>\n",
       "      <td>17.13</td>\n",
       "    </tr>\n",
       "    <tr>\n",
       "      <th>1</th>\n",
       "      <td>1523112</td>\n",
       "      <td>2023-03-01 00:03:59</td>\n",
       "      <td>2023-03-01 00:19:34.925241</td>\n",
       "      <td>15.58</td>\n",
       "    </tr>\n",
       "    <tr>\n",
       "      <th>2</th>\n",
       "      <td>1523113</td>\n",
       "      <td>2023-03-01 00:07:22</td>\n",
       "      <td>2023-03-01 00:22:28.291385</td>\n",
       "      <td>15.10</td>\n",
       "    </tr>\n",
       "    <tr>\n",
       "      <th>3</th>\n",
       "      <td>1523114</td>\n",
       "      <td>2023-03-01 00:07:47</td>\n",
       "      <td>2023-03-01 00:46:19.019399</td>\n",
       "      <td>38.53</td>\n",
       "    </tr>\n",
       "    <tr>\n",
       "      <th>4</th>\n",
       "      <td>1523115</td>\n",
       "      <td>2023-03-01 00:09:03</td>\n",
       "      <td>2023-03-01 00:25:13.619056</td>\n",
       "      <td>16.17</td>\n",
       "    </tr>\n",
       "  </tbody>\n",
       "</table>\n",
       "</div>"
      ],
      "text/plain": [
       "   order_id     order_placed_at         order_delivered_at  delivery_time\n",
       "0   1523111 2023-03-01 00:00:59 2023-03-01 00:18:07.443132          17.13\n",
       "1   1523112 2023-03-01 00:03:59 2023-03-01 00:19:34.925241          15.58\n",
       "2   1523113 2023-03-01 00:07:22 2023-03-01 00:22:28.291385          15.10\n",
       "3   1523114 2023-03-01 00:07:47 2023-03-01 00:46:19.019399          38.53\n",
       "4   1523115 2023-03-01 00:09:03 2023-03-01 00:25:13.619056          16.17"
      ]
     },
     "execution_count": 80,
     "metadata": {},
     "output_type": "execute_result"
    }
   ],
   "source": [
    "df['delivery_time']=((df['delivery_time'].dt.seconds)/60).round(2)\n",
    "df.head()"
   ]
  },
  {
   "cell_type": "code",
   "execution_count": 57,
   "id": "85c9ace2",
   "metadata": {},
   "outputs": [],
   "source": [
    "#df['delivery_time']=pd.to_timedelta(df.delivery_time).dt.components.iloc[:,2]\n",
    "#df.head()"
   ]
  },
  {
   "cell_type": "code",
   "execution_count": 81,
   "id": "313daffd",
   "metadata": {},
   "outputs": [
    {
     "name": "stdout",
     "output_type": "stream",
     "text": [
      "Average Delivery Time 18.955030666666698\n",
      "Median Delivery TIme 15.78\n",
      "Minimum Delivery Time 3.12\n",
      "Maximum Delivery Time 1152.78\n",
      "25% of Delivery TIme 15.27\n",
      "50% of Delivery TIme 15.78\n",
      "75% of Delivery TIme 17.27\n",
      "90% of Delivery TIme 21.15\n",
      "95% of Delivery TIme 27.221499999999978\n",
      "96% of Delivery TIme 30.08159999999996\n",
      "97% of Delivery TIme 33.93\n",
      "98% of Delivery TIme 41.37300000000006\n",
      "99% of Delivery TIme 64.82230000000004\n"
     ]
    }
   ],
   "source": [
    "print(\"Average Delivery Time\", df['delivery_time'].mean())\n",
    "print(\"Median Delivery TIme\", df['delivery_time'].median())\n",
    "print(\"Minimum Delivery Time\", df['delivery_time'].min())\n",
    "print(\"Maximum Delivery Time\", df['delivery_time'].max())\n",
    "print(\"25% of Delivery TIme\", df['delivery_time'].quantile(0.25))\n",
    "print(\"50% of Delivery TIme\", df['delivery_time'].quantile(0.50))\n",
    "print(\"75% of Delivery TIme\", df['delivery_time'].quantile(0.75))\n",
    "print(\"90% of Delivery TIme\", df['delivery_time'].quantile(0.90))\n",
    "print(\"95% of Delivery TIme\", df['delivery_time'].quantile(0.95))\n",
    "print(\"96% of Delivery TIme\", df['delivery_time'].quantile(0.96))\n",
    "print(\"97% of Delivery TIme\", df['delivery_time'].quantile(0.97))\n",
    "print(\"98% of Delivery TIme\", df['delivery_time'].quantile(0.98))\n",
    "print(\"99% of Delivery TIme\", df['delivery_time'].quantile(0.99))"
   ]
  },
  {
   "cell_type": "markdown",
   "id": "8450c2ca",
   "metadata": {},
   "source": [
    "#### `96.08% deliveries are within 31 minutes`\n",
    "#### `3.92% orders are above the permissible delivery time limit, hence the customer got the free pizza.`"
   ]
  },
  {
   "cell_type": "code",
   "execution_count": null,
   "id": "d54d3054",
   "metadata": {},
   "outputs": [],
   "source": []
  },
  {
   "cell_type": "markdown",
   "id": "a04900a0",
   "metadata": {},
   "source": [
    "### Distribution of delivery time"
   ]
  },
  {
   "cell_type": "code",
   "execution_count": 82,
   "id": "a23f7a26",
   "metadata": {},
   "outputs": [
    {
     "data": {
      "image/png": "[encoded data removed]",
      "text/plain": [
       "<Figure size 864x360 with 1 Axes>"
      ]
     },
     "metadata": {
      "needs_background": "light"
     },
     "output_type": "display_data"
    }
   ],
   "source": [
    "df['delivery_time'].plot(kind='box', figsize=(12,5));"
   ]
  },
  {
   "cell_type": "markdown",
   "id": "9b24cad9",
   "metadata": {},
   "source": [
    "#### `Delivery time for many orders is above the 30 minutes.`"
   ]
  },
  {
   "cell_type": "code",
   "execution_count": null,
   "id": "e47cca34",
   "metadata": {},
   "outputs": [],
   "source": []
  },
  {
   "cell_type": "code",
   "execution_count": 83,
   "id": "35357b85",
   "metadata": {},
   "outputs": [
    {
     "data": {
      "text/plain": [
       "<AxesSubplot:ylabel='Frequency'>"
      ]
     },
     "execution_count": 83,
     "metadata": {},
     "output_type": "execute_result"
    },
    {
     "data": {
      "image/png": "[encoded data removed]",
      "text/plain": [
       "<Figure size 864x360 with 1 Axes>"
      ]
     },
     "metadata": {
      "needs_background": "light"
     },
     "output_type": "display_data"
    }
   ],
   "source": [
    "df['delivery_time'].plot(kind='hist', figsize=(12,5))"
   ]
  },
  {
   "cell_type": "code",
   "execution_count": 62,
   "id": "0cb5f870",
   "metadata": {},
   "outputs": [
    {
     "data": {
      "text/plain": [
       "<AxesSubplot:ylabel='Density'>"
      ]
     },
     "execution_count": 62,
     "metadata": {},
     "output_type": "execute_result"
    },
    {
     "data": {
      "image/png": "[encoded data removed]",
      "text/plain": [
       "<Figure size 864x360 with 1 Axes>"
      ]
     },
     "metadata": {
      "needs_background": "light"
     },
     "output_type": "display_data"
    }
   ],
   "source": [
    "df['delivery_time'].plot(kind='kde', figsize=(12,5))"
   ]
  },
  {
   "cell_type": "code",
   "execution_count": null,
   "id": "71687eee",
   "metadata": {},
   "outputs": [],
   "source": []
  },
  {
   "cell_type": "markdown",
   "id": "f18eed22",
   "metadata": {},
   "source": [
    "### Percentage of total deliveries done by Minutes"
   ]
  },
  {
   "cell_type": "code",
   "execution_count": 92,
   "id": "532019a5",
   "metadata": {},
   "outputs": [
    {
     "data": {
      "text/plain": [
       "1297"
      ]
     },
     "execution_count": 92,
     "metadata": {},
     "output_type": "execute_result"
    }
   ],
   "source": [
    "df['delivery_time'].nunique()"
   ]
  },
  {
   "cell_type": "code",
   "execution_count": 105,
   "id": "7eae3471",
   "metadata": {},
   "outputs": [
    {
     "data": {
      "text/html": [
       "<div>\n",
       "<style scoped>\n",
       "    .dataframe tbody tr th:only-of-type {\n",
       "        vertical-align: middle;\n",
       "    }\n",
       "\n",
       "    .dataframe tbody tr th {\n",
       "        vertical-align: top;\n",
       "    }\n",
       "\n",
       "    .dataframe thead th {\n",
       "        text-align: right;\n",
       "    }\n",
       "</style>\n",
       "<table border=\"1\" class=\"dataframe\">\n",
       "  <thead>\n",
       "    <tr style=\"text-align: right;\">\n",
       "      <th></th>\n",
       "      <th>delivery_time(min)</th>\n",
       "      <th>total_deliveries</th>\n",
       "      <th>percentage_deliveries(%)</th>\n",
       "    </tr>\n",
       "  </thead>\n",
       "  <tbody>\n",
       "    <tr>\n",
       "      <th>0</th>\n",
       "      <td>15.02</td>\n",
       "      <td>302</td>\n",
       "      <td>2.01</td>\n",
       "    </tr>\n",
       "    <tr>\n",
       "      <th>1</th>\n",
       "      <td>15.00</td>\n",
       "      <td>293</td>\n",
       "      <td>1.95</td>\n",
       "    </tr>\n",
       "    <tr>\n",
       "      <th>2</th>\n",
       "      <td>15.08</td>\n",
       "      <td>267</td>\n",
       "      <td>1.78</td>\n",
       "    </tr>\n",
       "    <tr>\n",
       "      <th>3</th>\n",
       "      <td>15.03</td>\n",
       "      <td>262</td>\n",
       "      <td>1.75</td>\n",
       "    </tr>\n",
       "    <tr>\n",
       "      <th>4</th>\n",
       "      <td>15.05</td>\n",
       "      <td>250</td>\n",
       "      <td>1.67</td>\n",
       "    </tr>\n",
       "    <tr>\n",
       "      <th>...</th>\n",
       "      <td>...</td>\n",
       "      <td>...</td>\n",
       "      <td>...</td>\n",
       "    </tr>\n",
       "    <tr>\n",
       "      <th>1292</th>\n",
       "      <td>68.37</td>\n",
       "      <td>1</td>\n",
       "      <td>0.01</td>\n",
       "    </tr>\n",
       "    <tr>\n",
       "      <th>1293</th>\n",
       "      <td>38.38</td>\n",
       "      <td>1</td>\n",
       "      <td>0.01</td>\n",
       "    </tr>\n",
       "    <tr>\n",
       "      <th>1294</th>\n",
       "      <td>33.67</td>\n",
       "      <td>1</td>\n",
       "      <td>0.01</td>\n",
       "    </tr>\n",
       "    <tr>\n",
       "      <th>1295</th>\n",
       "      <td>26.83</td>\n",
       "      <td>1</td>\n",
       "      <td>0.01</td>\n",
       "    </tr>\n",
       "    <tr>\n",
       "      <th>1296</th>\n",
       "      <td>50.17</td>\n",
       "      <td>1</td>\n",
       "      <td>0.01</td>\n",
       "    </tr>\n",
       "  </tbody>\n",
       "</table>\n",
       "<p>1297 rows × 3 columns</p>\n",
       "</div>"
      ],
      "text/plain": [
       "      delivery_time(min)  total_deliveries  percentage_deliveries(%)\n",
       "0                  15.02               302                      2.01\n",
       "1                  15.00               293                      1.95\n",
       "2                  15.08               267                      1.78\n",
       "3                  15.03               262                      1.75\n",
       "4                  15.05               250                      1.67\n",
       "...                  ...               ...                       ...\n",
       "1292               68.37                 1                      0.01\n",
       "1293               38.38                 1                      0.01\n",
       "1294               33.67                 1                      0.01\n",
       "1295               26.83                 1                      0.01\n",
       "1296               50.17                 1                      0.01\n",
       "\n",
       "[1297 rows x 3 columns]"
      ]
     },
     "execution_count": 105,
     "metadata": {},
     "output_type": "execute_result"
    }
   ],
   "source": [
    "delivery_stats=pd.DataFrame(df['delivery_time'].value_counts().values, index=df['delivery_time'].value_counts().index)\n",
    "delivery_stats.reset_index(inplace=True)\n",
    "delivery_stats.columns=['delivery_time(min)','total_deliveries']\n",
    "delivery_stats['percentage_deliveries(%)']=(delivery_stats['total_deliveries']/15000*100).round(2)\n",
    "delivery_stats"
   ]
  },
  {
   "cell_type": "markdown",
   "id": "542236c8",
   "metadata": {},
   "source": [
    "#### `Most of the deliveries done within 10 to 20 minutes.`"
   ]
  },
  {
   "cell_type": "code",
   "execution_count": null,
   "id": "dc6f2a69",
   "metadata": {},
   "outputs": [],
   "source": []
  },
  {
   "cell_type": "markdown",
   "id": "c501e43f",
   "metadata": {},
   "source": [
    "### Percentage of total deliveries done below 30 minutes"
   ]
  },
  {
   "cell_type": "code",
   "execution_count": 90,
   "id": "21c143d5",
   "metadata": {},
   "outputs": [
    {
     "data": {
      "text/plain": [
       "15.02    302\n",
       "15.00    293\n",
       "15.08    267\n",
       "15.03    262\n",
       "15.05    250\n",
       "        ... \n",
       "20.92      1\n",
       "22.43      1\n",
       "29.75      1\n",
       "22.58      1\n",
       "28.80      1\n",
       "Name: delivery_time, Length: 772, dtype: int64"
      ]
     },
     "execution_count": 90,
     "metadata": {},
     "output_type": "execute_result"
    }
   ],
   "source": [
    "below_30=df[df['delivery_time']<=30]\n",
    "below_30['delivery_time'].value_counts()"
   ]
  },
  {
   "cell_type": "code",
   "execution_count": 91,
   "id": "c71ec676",
   "metadata": {},
   "outputs": [
    {
     "data": {
      "text/html": [
       "<div>\n",
       "<style scoped>\n",
       "    .dataframe tbody tr th:only-of-type {\n",
       "        vertical-align: middle;\n",
       "    }\n",
       "\n",
       "    .dataframe tbody tr th {\n",
       "        vertical-align: top;\n",
       "    }\n",
       "\n",
       "    .dataframe thead th {\n",
       "        text-align: right;\n",
       "    }\n",
       "</style>\n",
       "<table border=\"1\" class=\"dataframe\">\n",
       "  <thead>\n",
       "    <tr style=\"text-align: right;\">\n",
       "      <th></th>\n",
       "      <th>delivery_time(min)</th>\n",
       "      <th>total_deliveries</th>\n",
       "      <th>percentage_deliveries(%)</th>\n",
       "    </tr>\n",
       "  </thead>\n",
       "  <tbody>\n",
       "    <tr>\n",
       "      <th>0</th>\n",
       "      <td>15.02</td>\n",
       "      <td>302</td>\n",
       "      <td>2.01</td>\n",
       "    </tr>\n",
       "    <tr>\n",
       "      <th>1</th>\n",
       "      <td>15.00</td>\n",
       "      <td>293</td>\n",
       "      <td>1.95</td>\n",
       "    </tr>\n",
       "    <tr>\n",
       "      <th>2</th>\n",
       "      <td>15.08</td>\n",
       "      <td>267</td>\n",
       "      <td>1.78</td>\n",
       "    </tr>\n",
       "    <tr>\n",
       "      <th>3</th>\n",
       "      <td>15.03</td>\n",
       "      <td>262</td>\n",
       "      <td>1.75</td>\n",
       "    </tr>\n",
       "    <tr>\n",
       "      <th>4</th>\n",
       "      <td>15.05</td>\n",
       "      <td>250</td>\n",
       "      <td>1.67</td>\n",
       "    </tr>\n",
       "    <tr>\n",
       "      <th>...</th>\n",
       "      <td>...</td>\n",
       "      <td>...</td>\n",
       "      <td>...</td>\n",
       "    </tr>\n",
       "    <tr>\n",
       "      <th>767</th>\n",
       "      <td>20.92</td>\n",
       "      <td>1</td>\n",
       "      <td>0.01</td>\n",
       "    </tr>\n",
       "    <tr>\n",
       "      <th>768</th>\n",
       "      <td>22.43</td>\n",
       "      <td>1</td>\n",
       "      <td>0.01</td>\n",
       "    </tr>\n",
       "    <tr>\n",
       "      <th>769</th>\n",
       "      <td>29.75</td>\n",
       "      <td>1</td>\n",
       "      <td>0.01</td>\n",
       "    </tr>\n",
       "    <tr>\n",
       "      <th>770</th>\n",
       "      <td>22.58</td>\n",
       "      <td>1</td>\n",
       "      <td>0.01</td>\n",
       "    </tr>\n",
       "    <tr>\n",
       "      <th>771</th>\n",
       "      <td>28.80</td>\n",
       "      <td>1</td>\n",
       "      <td>0.01</td>\n",
       "    </tr>\n",
       "  </tbody>\n",
       "</table>\n",
       "<p>772 rows × 3 columns</p>\n",
       "</div>"
      ],
      "text/plain": [
       "     delivery_time(min)  total_deliveries  percentage_deliveries(%)\n",
       "0                 15.02               302                      2.01\n",
       "1                 15.00               293                      1.95\n",
       "2                 15.08               267                      1.78\n",
       "3                 15.03               262                      1.75\n",
       "4                 15.05               250                      1.67\n",
       "..                  ...               ...                       ...\n",
       "767               20.92                 1                      0.01\n",
       "768               22.43                 1                      0.01\n",
       "769               29.75                 1                      0.01\n",
       "770               22.58                 1                      0.01\n",
       "771               28.80                 1                      0.01\n",
       "\n",
       "[772 rows x 3 columns]"
      ]
     },
     "execution_count": 91,
     "metadata": {},
     "output_type": "execute_result"
    }
   ],
   "source": [
    "below_30=pd.DataFrame(below_30['delivery_time'].value_counts().values, index=below_30['delivery_time'].value_counts().index)\n",
    "below_30.reset_index(inplace=True)\n",
    "below_30.columns=['delivery_time(min)','total_deliveries']\n",
    "below_30['percentage_deliveries(%)']=(below_30['total_deliveries']/15000*100).round(2)\n",
    "below_30"
   ]
  },
  {
   "cell_type": "code",
   "execution_count": null,
   "id": "2a7a1586",
   "metadata": {},
   "outputs": [],
   "source": []
  },
  {
   "cell_type": "markdown",
   "id": "92dd6215",
   "metadata": {},
   "source": [
    "### Percentage of deliveries done above 30 minutes"
   ]
  },
  {
   "cell_type": "code",
   "execution_count": 93,
   "id": "612790f6",
   "metadata": {},
   "outputs": [
    {
     "data": {
      "text/plain": [
       "33.38     4\n",
       "30.32     3\n",
       "32.38     3\n",
       "30.58     3\n",
       "35.62     3\n",
       "         ..\n",
       "70.28     1\n",
       "547.65    1\n",
       "788.65    1\n",
       "49.08     1\n",
       "50.17     1\n",
       "Name: delivery_time, Length: 525, dtype: int64"
      ]
     },
     "execution_count": 93,
     "metadata": {},
     "output_type": "execute_result"
    }
   ],
   "source": [
    "above_30=df[df['delivery_time']>30]\n",
    "above_30['delivery_time'].value_counts()"
   ]
  },
  {
   "cell_type": "code",
   "execution_count": 94,
   "id": "9e3388e2",
   "metadata": {},
   "outputs": [
    {
     "data": {
      "text/html": [
       "<div>\n",
       "<style scoped>\n",
       "    .dataframe tbody tr th:only-of-type {\n",
       "        vertical-align: middle;\n",
       "    }\n",
       "\n",
       "    .dataframe tbody tr th {\n",
       "        vertical-align: top;\n",
       "    }\n",
       "\n",
       "    .dataframe thead th {\n",
       "        text-align: right;\n",
       "    }\n",
       "</style>\n",
       "<table border=\"1\" class=\"dataframe\">\n",
       "  <thead>\n",
       "    <tr style=\"text-align: right;\">\n",
       "      <th></th>\n",
       "      <th>delivery_time(min)</th>\n",
       "      <th>total_deliveries</th>\n",
       "      <th>percentage_deliveries(%)</th>\n",
       "    </tr>\n",
       "  </thead>\n",
       "  <tbody>\n",
       "    <tr>\n",
       "      <th>0</th>\n",
       "      <td>33.38</td>\n",
       "      <td>4</td>\n",
       "      <td>0.03</td>\n",
       "    </tr>\n",
       "    <tr>\n",
       "      <th>1</th>\n",
       "      <td>30.32</td>\n",
       "      <td>3</td>\n",
       "      <td>0.02</td>\n",
       "    </tr>\n",
       "    <tr>\n",
       "      <th>2</th>\n",
       "      <td>32.38</td>\n",
       "      <td>3</td>\n",
       "      <td>0.02</td>\n",
       "    </tr>\n",
       "    <tr>\n",
       "      <th>3</th>\n",
       "      <td>30.58</td>\n",
       "      <td>3</td>\n",
       "      <td>0.02</td>\n",
       "    </tr>\n",
       "    <tr>\n",
       "      <th>4</th>\n",
       "      <td>35.62</td>\n",
       "      <td>3</td>\n",
       "      <td>0.02</td>\n",
       "    </tr>\n",
       "    <tr>\n",
       "      <th>...</th>\n",
       "      <td>...</td>\n",
       "      <td>...</td>\n",
       "      <td>...</td>\n",
       "    </tr>\n",
       "    <tr>\n",
       "      <th>520</th>\n",
       "      <td>70.28</td>\n",
       "      <td>1</td>\n",
       "      <td>0.01</td>\n",
       "    </tr>\n",
       "    <tr>\n",
       "      <th>521</th>\n",
       "      <td>547.65</td>\n",
       "      <td>1</td>\n",
       "      <td>0.01</td>\n",
       "    </tr>\n",
       "    <tr>\n",
       "      <th>522</th>\n",
       "      <td>788.65</td>\n",
       "      <td>1</td>\n",
       "      <td>0.01</td>\n",
       "    </tr>\n",
       "    <tr>\n",
       "      <th>523</th>\n",
       "      <td>49.08</td>\n",
       "      <td>1</td>\n",
       "      <td>0.01</td>\n",
       "    </tr>\n",
       "    <tr>\n",
       "      <th>524</th>\n",
       "      <td>50.17</td>\n",
       "      <td>1</td>\n",
       "      <td>0.01</td>\n",
       "    </tr>\n",
       "  </tbody>\n",
       "</table>\n",
       "<p>525 rows × 3 columns</p>\n",
       "</div>"
      ],
      "text/plain": [
       "     delivery_time(min)  total_deliveries  percentage_deliveries(%)\n",
       "0                 33.38                 4                      0.03\n",
       "1                 30.32                 3                      0.02\n",
       "2                 32.38                 3                      0.02\n",
       "3                 30.58                 3                      0.02\n",
       "4                 35.62                 3                      0.02\n",
       "..                  ...               ...                       ...\n",
       "520               70.28                 1                      0.01\n",
       "521              547.65                 1                      0.01\n",
       "522              788.65                 1                      0.01\n",
       "523               49.08                 1                      0.01\n",
       "524               50.17                 1                      0.01\n",
       "\n",
       "[525 rows x 3 columns]"
      ]
     },
     "execution_count": 94,
     "metadata": {},
     "output_type": "execute_result"
    }
   ],
   "source": [
    "above_30=pd.DataFrame(above_30['delivery_time'].value_counts().values, index=above_30['delivery_time'].value_counts().index)\n",
    "above_30.reset_index(inplace=True)\n",
    "above_30.columns=['delivery_time(min)','total_deliveries']\n",
    "above_30['percentage_deliveries(%)']=(above_30['total_deliveries']/15000*100).round(2)\n",
    "above_30"
   ]
  },
  {
   "cell_type": "code",
   "execution_count": null,
   "id": "9b16e70f",
   "metadata": {},
   "outputs": [],
   "source": []
  },
  {
   "cell_type": "code",
   "execution_count": null,
   "id": "9c5f4de7",
   "metadata": {},
   "outputs": [],
   "source": []
  },
  {
   "cell_type": "code",
   "execution_count": null,
   "id": "1c63e548",
   "metadata": {},
   "outputs": [],
   "source": []
  },
  {
   "cell_type": "markdown",
   "id": "94062afb",
   "metadata": {},
   "source": [
    "#### `Out of total deliveries, 88% deliveries done in range of 15 to 20 minutes.`"
   ]
  },
  {
   "cell_type": "code",
   "execution_count": null,
   "id": "0b33ffb5",
   "metadata": {},
   "outputs": [],
   "source": []
  },
  {
   "cell_type": "markdown",
   "id": "68ac3977",
   "metadata": {},
   "source": [
    "### Total orders by day"
   ]
  },
  {
   "cell_type": "code",
   "execution_count": 17,
   "id": "ee5b4219",
   "metadata": {},
   "outputs": [
    {
     "data": {
      "text/plain": [
       "2023-03-20    597\n",
       "2023-03-22    591\n",
       "2023-03-02    588\n",
       "2023-03-10    587\n",
       "2023-03-23    583\n",
       "2023-03-06    582\n",
       "2023-03-12    582\n",
       "2023-03-08    578\n",
       "2023-03-07    570\n",
       "2023-03-04    567\n",
       "2023-03-24    565\n",
       "2023-03-09    564\n",
       "2023-03-18    559\n",
       "2023-03-27    551\n",
       "2023-03-05    551\n",
       "2023-03-01    550\n",
       "2023-03-25    547\n",
       "2023-03-16    545\n",
       "2023-03-15    540\n",
       "2023-03-17    537\n",
       "2023-03-11    536\n",
       "2023-03-03    534\n",
       "2023-03-26    532\n",
       "2023-03-19    526\n",
       "2023-03-13    526\n",
       "2023-03-21    520\n",
       "2023-03-14    492\n",
       "Name: order_placed_at, dtype: int64"
      ]
     },
     "execution_count": 17,
     "metadata": {},
     "output_type": "execute_result"
    }
   ],
   "source": [
    "(df['order_placed_at'].dt.date).value_counts()"
   ]
  },
  {
   "cell_type": "code",
   "execution_count": 18,
   "id": "91b2135e",
   "metadata": {},
   "outputs": [
    {
     "data": {
      "text/plain": [
       "<AxesSubplot:>"
      ]
     },
     "execution_count": 18,
     "metadata": {},
     "output_type": "execute_result"
    },
    {
     "data": {
      "image/png": "[encoded data removed]",
      "text/plain": [
       "<Figure size 1440x360 with 1 Axes>"
      ]
     },
     "metadata": {
      "needs_background": "light"
     },
     "output_type": "display_data"
    }
   ],
   "source": [
    "(df['order_placed_at'].dt.date).value_counts().plot(kind='line', figsize=(20,5))"
   ]
  },
  {
   "cell_type": "markdown",
   "id": "b7b2263a",
   "metadata": {},
   "source": [
    "#### `Every day from 1st March 2023 to 27th March 2023, between 500 to 600 orders has been placed., Maximum orders placed on 20th March and minimum order on 14th March.`"
   ]
  },
  {
   "cell_type": "code",
   "execution_count": null,
   "id": "4e1951f4",
   "metadata": {},
   "outputs": [],
   "source": []
  },
  {
   "cell_type": "markdown",
   "id": "6a48adf2",
   "metadata": {},
   "source": [
    "### Total orders by Weekday"
   ]
  },
  {
   "cell_type": "code",
   "execution_count": 27,
   "id": "a3ea137c",
   "metadata": {},
   "outputs": [
    {
     "data": {
      "text/plain": [
       "0        Wednesday\n",
       "1        Wednesday\n",
       "2        Wednesday\n",
       "3        Wednesday\n",
       "4        Wednesday\n",
       "           ...    \n",
       "14995       Monday\n",
       "14996       Monday\n",
       "14997       Monday\n",
       "14998       Monday\n",
       "14999       Monday\n",
       "Name: order_placed_at, Length: 15000, dtype: object"
      ]
     },
     "execution_count": 27,
     "metadata": {},
     "output_type": "execute_result"
    }
   ],
   "source": []
  },
  {
   "cell_type": "code",
   "execution_count": 28,
   "id": "f481aeac",
   "metadata": {},
   "outputs": [
    {
     "data": {
      "text/html": [
       "<div>\n",
       "<style scoped>\n",
       "    .dataframe tbody tr th:only-of-type {\n",
       "        vertical-align: middle;\n",
       "    }\n",
       "\n",
       "    .dataframe tbody tr th {\n",
       "        vertical-align: top;\n",
       "    }\n",
       "\n",
       "    .dataframe thead th {\n",
       "        text-align: right;\n",
       "    }\n",
       "</style>\n",
       "<table border=\"1\" class=\"dataframe\">\n",
       "  <thead>\n",
       "    <tr style=\"text-align: right;\">\n",
       "      <th></th>\n",
       "      <th>weekday</th>\n",
       "      <th>toral_orders</th>\n",
       "      <th>perc_order</th>\n",
       "    </tr>\n",
       "  </thead>\n",
       "  <tbody>\n",
       "    <tr>\n",
       "      <th>0</th>\n",
       "      <td>Thursday</td>\n",
       "      <td>2280</td>\n",
       "      <td>15.20</td>\n",
       "    </tr>\n",
       "    <tr>\n",
       "      <th>1</th>\n",
       "      <td>Wednesday</td>\n",
       "      <td>2259</td>\n",
       "      <td>15.06</td>\n",
       "    </tr>\n",
       "    <tr>\n",
       "      <th>2</th>\n",
       "      <td>Monday</td>\n",
       "      <td>2256</td>\n",
       "      <td>15.04</td>\n",
       "    </tr>\n",
       "    <tr>\n",
       "      <th>3</th>\n",
       "      <td>Friday</td>\n",
       "      <td>2223</td>\n",
       "      <td>14.82</td>\n",
       "    </tr>\n",
       "    <tr>\n",
       "      <th>4</th>\n",
       "      <td>Saturday</td>\n",
       "      <td>2209</td>\n",
       "      <td>14.73</td>\n",
       "    </tr>\n",
       "    <tr>\n",
       "      <th>5</th>\n",
       "      <td>Sunday</td>\n",
       "      <td>2191</td>\n",
       "      <td>14.61</td>\n",
       "    </tr>\n",
       "    <tr>\n",
       "      <th>6</th>\n",
       "      <td>Tuesday</td>\n",
       "      <td>1582</td>\n",
       "      <td>10.55</td>\n",
       "    </tr>\n",
       "  </tbody>\n",
       "</table>\n",
       "</div>"
      ],
      "text/plain": [
       "     weekday  toral_orders  perc_order\n",
       "0   Thursday          2280       15.20\n",
       "1  Wednesday          2259       15.06\n",
       "2     Monday          2256       15.04\n",
       "3     Friday          2223       14.82\n",
       "4   Saturday          2209       14.73\n",
       "5     Sunday          2191       14.61\n",
       "6    Tuesday          1582       10.55"
      ]
     },
     "execution_count": 28,
     "metadata": {},
     "output_type": "execute_result"
    }
   ],
   "source": [
    "order_by_weekday=pd.DataFrame((df['order_placed_at'].dt.day_name()).value_counts())\n",
    "order_by_weekday.reset_index(inplace=True)\n",
    "order_by_weekday.columns=['weekday','toral_orders']\n",
    "order_by_weekday['perc_order']=(order_by_weekday['toral_orders']/15000*100).round(2)\n",
    "order_by_weekday"
   ]
  },
  {
   "cell_type": "markdown",
   "id": "01226249",
   "metadata": {},
   "source": [
    "#### `On Thursday Most orders about 15.20% of total orders has been placed, and on Tuesday least orders ie only 10% of total orders has placed.`\n",
    "#### `Every week day almost 2200 orders  i.e about 15% of total orders has been placed, but on Tuesday only 1582 orders i.e 10% of total orders has placed.`\n",
    "#### `Every week day is repeating 4 times but tuesday repeated only 3 times, thats why the orders on tuesday is less.` "
   ]
  },
  {
   "cell_type": "code",
   "execution_count": null,
   "id": "24a401b0",
   "metadata": {},
   "outputs": [],
   "source": []
  },
  {
   "cell_type": "markdown",
   "id": "75a5cf88",
   "metadata": {},
   "source": [
    "### Total order by week"
   ]
  },
  {
   "cell_type": "code",
   "execution_count": 20,
   "id": "2cf5eb83",
   "metadata": {},
   "outputs": [],
   "source": [
    "import warnings\n",
    "warnings.filterwarnings('ignore')"
   ]
  },
  {
   "cell_type": "code",
   "execution_count": 21,
   "id": "1fdf5fd3",
   "metadata": {},
   "outputs": [
    {
     "data": {
      "text/html": [
       "<div>\n",
       "<style scoped>\n",
       "    .dataframe tbody tr th:only-of-type {\n",
       "        vertical-align: middle;\n",
       "    }\n",
       "\n",
       "    .dataframe tbody tr th {\n",
       "        vertical-align: top;\n",
       "    }\n",
       "\n",
       "    .dataframe thead th {\n",
       "        text-align: right;\n",
       "    }\n",
       "</style>\n",
       "<table border=\"1\" class=\"dataframe\">\n",
       "  <thead>\n",
       "    <tr style=\"text-align: right;\">\n",
       "      <th></th>\n",
       "      <th>week</th>\n",
       "      <th>toral_orders</th>\n",
       "      <th>perc_order</th>\n",
       "    </tr>\n",
       "  </thead>\n",
       "  <tbody>\n",
       "    <tr>\n",
       "      <th>0</th>\n",
       "      <td>10</td>\n",
       "      <td>3999</td>\n",
       "      <td>26.66</td>\n",
       "    </tr>\n",
       "    <tr>\n",
       "      <th>1</th>\n",
       "      <td>12</td>\n",
       "      <td>3935</td>\n",
       "      <td>26.23</td>\n",
       "    </tr>\n",
       "    <tr>\n",
       "      <th>2</th>\n",
       "      <td>11</td>\n",
       "      <td>3725</td>\n",
       "      <td>24.83</td>\n",
       "    </tr>\n",
       "    <tr>\n",
       "      <th>3</th>\n",
       "      <td>9</td>\n",
       "      <td>2790</td>\n",
       "      <td>18.60</td>\n",
       "    </tr>\n",
       "    <tr>\n",
       "      <th>4</th>\n",
       "      <td>13</td>\n",
       "      <td>551</td>\n",
       "      <td>3.67</td>\n",
       "    </tr>\n",
       "  </tbody>\n",
       "</table>\n",
       "</div>"
      ],
      "text/plain": [
       "   week  toral_orders  perc_order\n",
       "0    10          3999       26.66\n",
       "1    12          3935       26.23\n",
       "2    11          3725       24.83\n",
       "3     9          2790       18.60\n",
       "4    13           551        3.67"
      ]
     },
     "execution_count": 21,
     "metadata": {},
     "output_type": "execute_result"
    }
   ],
   "source": [
    "order_by_week=pd.DataFrame((df['order_placed_at'].dt.week).value_counts())\n",
    "order_by_week.reset_index(inplace=True)\n",
    "order_by_week.columns=['week','toral_orders']\n",
    "order_by_week['perc_order']=(order_by_week['toral_orders']/15000*100).round(2)\n",
    "order_by_week"
   ]
  },
  {
   "cell_type": "markdown",
   "id": "8216b027",
   "metadata": {},
   "source": [
    "#### `In first week of March 2790(18.60%) orders has been placed, 3999(26.66%) orders in second week, 3725(24.83%) orders in third week, 3935(26.23%) orders in forth week, and 551(3.67%) orders in last week of march, this is obvious because we have data till 27th March.`"
   ]
  },
  {
   "cell_type": "code",
   "execution_count": null,
   "id": "11be003f",
   "metadata": {},
   "outputs": [],
   "source": []
  },
  {
   "cell_type": "markdown",
   "id": "99cd2e74",
   "metadata": {},
   "source": [
    "### Total order by time of a day"
   ]
  },
  {
   "cell_type": "code",
   "execution_count": 22,
   "id": "b5f5e84d",
   "metadata": {},
   "outputs": [
    {
     "data": {
      "text/html": [
       "<div>\n",
       "<style scoped>\n",
       "    .dataframe tbody tr th:only-of-type {\n",
       "        vertical-align: middle;\n",
       "    }\n",
       "\n",
       "    .dataframe tbody tr th {\n",
       "        vertical-align: top;\n",
       "    }\n",
       "\n",
       "    .dataframe thead th {\n",
       "        text-align: right;\n",
       "    }\n",
       "</style>\n",
       "<table border=\"1\" class=\"dataframe\">\n",
       "  <thead>\n",
       "    <tr style=\"text-align: right;\">\n",
       "      <th></th>\n",
       "      <th>hour</th>\n",
       "    </tr>\n",
       "  </thead>\n",
       "  <tbody>\n",
       "    <tr>\n",
       "      <th>0</th>\n",
       "      <td>0</td>\n",
       "    </tr>\n",
       "    <tr>\n",
       "      <th>1</th>\n",
       "      <td>0</td>\n",
       "    </tr>\n",
       "    <tr>\n",
       "      <th>2</th>\n",
       "      <td>0</td>\n",
       "    </tr>\n",
       "    <tr>\n",
       "      <th>3</th>\n",
       "      <td>0</td>\n",
       "    </tr>\n",
       "    <tr>\n",
       "      <th>4</th>\n",
       "      <td>0</td>\n",
       "    </tr>\n",
       "    <tr>\n",
       "      <th>...</th>\n",
       "      <td>...</td>\n",
       "    </tr>\n",
       "    <tr>\n",
       "      <th>14995</th>\n",
       "      <td>23</td>\n",
       "    </tr>\n",
       "    <tr>\n",
       "      <th>14996</th>\n",
       "      <td>23</td>\n",
       "    </tr>\n",
       "    <tr>\n",
       "      <th>14997</th>\n",
       "      <td>23</td>\n",
       "    </tr>\n",
       "    <tr>\n",
       "      <th>14998</th>\n",
       "      <td>23</td>\n",
       "    </tr>\n",
       "    <tr>\n",
       "      <th>14999</th>\n",
       "      <td>23</td>\n",
       "    </tr>\n",
       "  </tbody>\n",
       "</table>\n",
       "<p>15000 rows × 1 columns</p>\n",
       "</div>"
      ],
      "text/plain": [
       "       hour\n",
       "0         0\n",
       "1         0\n",
       "2         0\n",
       "3         0\n",
       "4         0\n",
       "...     ...\n",
       "14995    23\n",
       "14996    23\n",
       "14997    23\n",
       "14998    23\n",
       "14999    23\n",
       "\n",
       "[15000 rows x 1 columns]"
      ]
     },
     "execution_count": 22,
     "metadata": {},
     "output_type": "execute_result"
    }
   ],
   "source": [
    "time=pd.DataFrame(df['order_placed_at'].dt.hour)\n",
    "time.columns=['hour']\n",
    "time"
   ]
  },
  {
   "cell_type": "code",
   "execution_count": 23,
   "id": "7ac01c3c",
   "metadata": {},
   "outputs": [
    {
     "data": {
      "text/plain": [
       "array([ 0,  1,  2,  3,  4,  5,  6,  7,  8,  9, 10, 11, 12, 13, 14, 15, 16,\n",
       "       17, 18, 19, 20, 21, 22, 23], dtype=int64)"
      ]
     },
     "execution_count": 23,
     "metadata": {},
     "output_type": "execute_result"
    }
   ],
   "source": [
    "time['hour'].unique()"
   ]
  },
  {
   "cell_type": "code",
   "execution_count": 24,
   "id": "4d202042",
   "metadata": {},
   "outputs": [
    {
     "data": {
      "text/html": [
       "<div>\n",
       "<style scoped>\n",
       "    .dataframe tbody tr th:only-of-type {\n",
       "        vertical-align: middle;\n",
       "    }\n",
       "\n",
       "    .dataframe tbody tr th {\n",
       "        vertical-align: top;\n",
       "    }\n",
       "\n",
       "    .dataframe thead th {\n",
       "        text-align: right;\n",
       "    }\n",
       "</style>\n",
       "<table border=\"1\" class=\"dataframe\">\n",
       "  <thead>\n",
       "    <tr style=\"text-align: right;\">\n",
       "      <th></th>\n",
       "      <th>hour</th>\n",
       "      <th>time_period</th>\n",
       "    </tr>\n",
       "  </thead>\n",
       "  <tbody>\n",
       "    <tr>\n",
       "      <th>0</th>\n",
       "      <td>0</td>\n",
       "      <td>12AM-6AM</td>\n",
       "    </tr>\n",
       "    <tr>\n",
       "      <th>1</th>\n",
       "      <td>0</td>\n",
       "      <td>12AM-6AM</td>\n",
       "    </tr>\n",
       "    <tr>\n",
       "      <th>2</th>\n",
       "      <td>0</td>\n",
       "      <td>12AM-6AM</td>\n",
       "    </tr>\n",
       "    <tr>\n",
       "      <th>3</th>\n",
       "      <td>0</td>\n",
       "      <td>12AM-6AM</td>\n",
       "    </tr>\n",
       "    <tr>\n",
       "      <th>4</th>\n",
       "      <td>0</td>\n",
       "      <td>12AM-6AM</td>\n",
       "    </tr>\n",
       "  </tbody>\n",
       "</table>\n",
       "</div>"
      ],
      "text/plain": [
       "   hour time_period\n",
       "0     0    12AM-6AM\n",
       "1     0    12AM-6AM\n",
       "2     0    12AM-6AM\n",
       "3     0    12AM-6AM\n",
       "4     0    12AM-6AM"
      ]
     },
     "execution_count": 24,
     "metadata": {},
     "output_type": "execute_result"
    }
   ],
   "source": [
    "def time_period(hour):\n",
    "    if (hour>=0 and hour<=6):\n",
    "        return '12AM-6AM'\n",
    "    elif (hour>6 and hour<12):\n",
    "        return '6AM-12PM'\n",
    "    elif (hour>=12 and hour<=18):\n",
    "        return '12PM-6PM'\n",
    "    else:\n",
    "        return '6PM-12AM'\n",
    "    \n",
    "time['time_period']=time['hour'].apply(time_period)\n",
    "time.head()"
   ]
  },
  {
   "cell_type": "code",
   "execution_count": 25,
   "id": "66fc3a35",
   "metadata": {},
   "outputs": [
    {
     "data": {
      "text/html": [
       "<div>\n",
       "<style scoped>\n",
       "    .dataframe tbody tr th:only-of-type {\n",
       "        vertical-align: middle;\n",
       "    }\n",
       "\n",
       "    .dataframe tbody tr th {\n",
       "        vertical-align: top;\n",
       "    }\n",
       "\n",
       "    .dataframe thead th {\n",
       "        text-align: right;\n",
       "    }\n",
       "</style>\n",
       "<table border=\"1\" class=\"dataframe\">\n",
       "  <thead>\n",
       "    <tr style=\"text-align: right;\">\n",
       "      <th></th>\n",
       "      <th>time_period</th>\n",
       "      <th>total_orders</th>\n",
       "      <th>perc_order</th>\n",
       "    </tr>\n",
       "  </thead>\n",
       "  <tbody>\n",
       "    <tr>\n",
       "      <th>0</th>\n",
       "      <td>12AM-6AM</td>\n",
       "      <td>4402</td>\n",
       "      <td>29.35</td>\n",
       "    </tr>\n",
       "    <tr>\n",
       "      <th>1</th>\n",
       "      <td>12PM-6PM</td>\n",
       "      <td>4330</td>\n",
       "      <td>28.87</td>\n",
       "    </tr>\n",
       "    <tr>\n",
       "      <th>2</th>\n",
       "      <td>6PM-12AM</td>\n",
       "      <td>3190</td>\n",
       "      <td>21.27</td>\n",
       "    </tr>\n",
       "    <tr>\n",
       "      <th>3</th>\n",
       "      <td>6AM-12PM</td>\n",
       "      <td>3078</td>\n",
       "      <td>20.52</td>\n",
       "    </tr>\n",
       "  </tbody>\n",
       "</table>\n",
       "</div>"
      ],
      "text/plain": [
       "  time_period  total_orders  perc_order\n",
       "0    12AM-6AM          4402       29.35\n",
       "1    12PM-6PM          4330       28.87\n",
       "2    6PM-12AM          3190       21.27\n",
       "3    6AM-12PM          3078       20.52"
      ]
     },
     "execution_count": 25,
     "metadata": {},
     "output_type": "execute_result"
    }
   ],
   "source": [
    "order_by_time=pd.DataFrame(time['time_period'].value_counts())\n",
    "order_by_time.reset_index(inplace=True)\n",
    "order_by_time.columns=['time_period', 'total_orders']\n",
    "order_by_time['perc_order']=(order_by_time['total_orders']/15000*100).round(2)\n",
    "order_by_time"
   ]
  },
  {
   "cell_type": "markdown",
   "id": "de959142",
   "metadata": {},
   "source": [
    "#### `Maximum orders are between 12AM to 6AM, about 30%(4402). 29% orders are between 12PM to 6PM, 21% orders are between 6PM to 12AM and 20% orders between 6AM to 12PM.`"
   ]
  },
  {
   "cell_type": "code",
   "execution_count": null,
   "id": "192cd228",
   "metadata": {},
   "outputs": [],
   "source": []
  },
  {
   "cell_type": "markdown",
   "id": "8d95a1a2",
   "metadata": {},
   "source": [
    "## Inference:\n",
    "#### 1.  97% deliveries are within 31 minutes.\n",
    "#### 2.  Average Delivery Time is 17 minutes, Maximum and minimum deliver time is 59 and 0 minutes respectively.\n",
    "#### 3.  Out of total deliveries, 88% deliveries done in time range of 15 to 20 minutes.\n",
    "#### 4.  Every day from 1st March 2023 to 27th March 2023, 500 to 600 orders has been placed.\n",
    "#### 5.  Maximum orders placed on 20th March and minimum order on 14th March.\n",
    "#### 6.  On Thursday Most orders about 15.20% of total orders has been placed, and on Tuesday least orders ie only 10% of total orders has placed.\n",
    "#### 7.  Every week day almost 2200 orders  i.e about 15% of total orders has been placed, but on Tuesday only 1582 orders i.e 10% of total orders has placed. \n",
    "#### 8.  In first week of March 2790(18.60%) orders has been placed, 3999(26.66%) orders in second week, 3725(24.83%) orders in third week, 3935(26.23%) orders in forth week, and 551(3.67%) orders in last week of march, this is obvious because we have data till 27th March.\n",
    "#### 9.  Maximum orders are between 12AM to 6AM i.e about 30%(4402). 29% orders are between 12PM to 6PM, 21% orders are between 6PM to 12AM and 20% orders between 6AM to 12PM.\n",
    "#### 10. There are 6 orders which are delivered in zero minutes, might be these odered are done from the dominos store."
   ]
  },
  {
   "cell_type": "code",
   "execution_count": null,
   "id": "e212fc38",
   "metadata": {},
   "outputs": [],
   "source": []
  }
 ],
 "metadata": {
  "kernelspec": {
   "display_name": "Python 3 (ipykernel)",
   "language": "python",
   "name": "python3"
  },
  "language_info": {
   "codemirror_mode": {
    "name": "ipython",
    "version": 3
   },
   "file_extension": ".py",
   "mimetype": "text/x-python",
   "name": "python",
   "nbconvert_exporter": "python",
   "pygments_lexer": "ipython3",
   "version": "3.9.7"
  }
 },
 "nbformat": 4,
 "nbformat_minor": 5
}
