{
 "cells": [
  {
   "cell_type": "code",
   "execution_count": 1,
   "id": "0d101a38",
   "metadata": {},
   "outputs": [],
   "source": [
    "import pandas as pd\n",
    "import numpy as np\n",
    "import warnings\n",
    "warnings.filterwarnings('ignore')"
   ]
  },
  {
   "cell_type": "code",
   "execution_count": 2,
   "id": "8a6eedfe",
   "metadata": {},
   "outputs": [
    {
     "data": {
      "text/html": [
       "<div>\n",
       "<style scoped>\n",
       "    .dataframe tbody tr th:only-of-type {\n",
       "        vertical-align: middle;\n",
       "    }\n",
       "\n",
       "    .dataframe tbody tr th {\n",
       "        vertical-align: top;\n",
       "    }\n",
       "\n",
       "    .dataframe thead th {\n",
       "        text-align: right;\n",
       "    }\n",
       "</style>\n",
       "<table border=\"1\" class=\"dataframe\">\n",
       "  <thead>\n",
       "    <tr style=\"text-align: right;\">\n",
       "      <th></th>\n",
       "      <th>batch</th>\n",
       "      <th>user_id</th>\n",
       "      <th>Score</th>\n",
       "      <th>score</th>\n",
       "    </tr>\n",
       "  </thead>\n",
       "  <tbody>\n",
       "    <tr>\n",
       "      <th>0</th>\n",
       "      <td>AI_ELITE_7</td>\n",
       "      <td>uid_149</td>\n",
       "      <td>2023-06-07 00:00:00</td>\n",
       "      <td>6</td>\n",
       "    </tr>\n",
       "    <tr>\n",
       "      <th>1</th>\n",
       "      <td>AI_ELITE_7</td>\n",
       "      <td>uid_148</td>\n",
       "      <td>2023-06-07 00:00:00</td>\n",
       "      <td>6</td>\n",
       "    </tr>\n",
       "    <tr>\n",
       "      <th>2</th>\n",
       "      <td>AI_ELITE_7</td>\n",
       "      <td>uid_147</td>\n",
       "      <td>2023-07-07 00:00:00</td>\n",
       "      <td>7</td>\n",
       "    </tr>\n",
       "    <tr>\n",
       "      <th>3</th>\n",
       "      <td>AI_ELITE_7</td>\n",
       "      <td>uid_146</td>\n",
       "      <td>2023-07-07 00:00:00</td>\n",
       "      <td>7</td>\n",
       "    </tr>\n",
       "    <tr>\n",
       "      <th>4</th>\n",
       "      <td>AI_ELITE_7</td>\n",
       "      <td>uid_145</td>\n",
       "      <td>2023-04-07 00:00:00</td>\n",
       "      <td>4</td>\n",
       "    </tr>\n",
       "  </tbody>\n",
       "</table>\n",
       "</div>"
      ],
      "text/plain": [
       "        batch  user_id             Score     score\n",
       "0  AI_ELITE_7  uid_149  2023-06-07 00:00:00      6\n",
       "1  AI_ELITE_7  uid_148  2023-06-07 00:00:00      6\n",
       "2  AI_ELITE_7  uid_147  2023-07-07 00:00:00      7\n",
       "3  AI_ELITE_7  uid_146  2023-07-07 00:00:00      7\n",
       "4  AI_ELITE_7  uid_145  2023-04-07 00:00:00      4"
      ]
     },
     "execution_count": 2,
     "metadata": {},
     "output_type": "execute_result"
    }
   ],
   "source": [
    "df=pd.read_excel('D:\\PGP IN DATA SCIENCE with Careerera\\Data Sets\\innomatics\\scores_data.xlsx')\n",
    "df.head()"
   ]
  },
  {
   "cell_type": "code",
   "execution_count": 3,
   "id": "989dfd2e",
   "metadata": {},
   "outputs": [
    {
     "data": {
      "text/plain": [
       "Index(['batch', 'user_id', '   Score   ', 'score'], dtype='object')"
      ]
     },
     "execution_count": 3,
     "metadata": {},
     "output_type": "execute_result"
    }
   ],
   "source": [
    "df.columns"
   ]
  },
  {
   "cell_type": "code",
   "execution_count": 4,
   "id": "646cae5e",
   "metadata": {
    "scrolled": true
   },
   "outputs": [
    {
     "data": {
      "text/html": [
       "<div>\n",
       "<style scoped>\n",
       "    .dataframe tbody tr th:only-of-type {\n",
       "        vertical-align: middle;\n",
       "    }\n",
       "\n",
       "    .dataframe tbody tr th {\n",
       "        vertical-align: top;\n",
       "    }\n",
       "\n",
       "    .dataframe thead th {\n",
       "        text-align: right;\n",
       "    }\n",
       "</style>\n",
       "<table border=\"1\" class=\"dataframe\">\n",
       "  <thead>\n",
       "    <tr style=\"text-align: right;\">\n",
       "      <th></th>\n",
       "      <th>batch</th>\n",
       "      <th>user_id</th>\n",
       "      <th>score</th>\n",
       "    </tr>\n",
       "  </thead>\n",
       "  <tbody>\n",
       "    <tr>\n",
       "      <th>0</th>\n",
       "      <td>AI_ELITE_7</td>\n",
       "      <td>uid_149</td>\n",
       "      <td>6</td>\n",
       "    </tr>\n",
       "    <tr>\n",
       "      <th>1</th>\n",
       "      <td>AI_ELITE_7</td>\n",
       "      <td>uid_148</td>\n",
       "      <td>6</td>\n",
       "    </tr>\n",
       "    <tr>\n",
       "      <th>2</th>\n",
       "      <td>AI_ELITE_7</td>\n",
       "      <td>uid_147</td>\n",
       "      <td>7</td>\n",
       "    </tr>\n",
       "    <tr>\n",
       "      <th>3</th>\n",
       "      <td>AI_ELITE_7</td>\n",
       "      <td>uid_146</td>\n",
       "      <td>7</td>\n",
       "    </tr>\n",
       "    <tr>\n",
       "      <th>4</th>\n",
       "      <td>AI_ELITE_7</td>\n",
       "      <td>uid_145</td>\n",
       "      <td>4</td>\n",
       "    </tr>\n",
       "  </tbody>\n",
       "</table>\n",
       "</div>"
      ],
      "text/plain": [
       "        batch  user_id  score\n",
       "0  AI_ELITE_7  uid_149      6\n",
       "1  AI_ELITE_7  uid_148      6\n",
       "2  AI_ELITE_7  uid_147      7\n",
       "3  AI_ELITE_7  uid_146      7\n",
       "4  AI_ELITE_7  uid_145      4"
      ]
     },
     "execution_count": 4,
     "metadata": {},
     "output_type": "execute_result"
    }
   ],
   "source": [
    "df.drop('   Score   ', axis=1, inplace=True)\n",
    "df.head()"
   ]
  },
  {
   "cell_type": "code",
   "execution_count": 7,
   "id": "9285445b",
   "metadata": {},
   "outputs": [
    {
     "data": {
      "text/plain": [
       "batch      object\n",
       "user_id    object\n",
       "score       int64\n",
       "dtype: object"
      ]
     },
     "execution_count": 7,
     "metadata": {},
     "output_type": "execute_result"
    }
   ],
   "source": [
    "df.dtypes"
   ]
  },
  {
   "cell_type": "markdown",
   "id": "0f85626c",
   "metadata": {},
   "source": [
    "### Total Batches?"
   ]
  },
  {
   "cell_type": "code",
   "execution_count": 5,
   "id": "4730d22b",
   "metadata": {},
   "outputs": [
    {
     "data": {
      "text/plain": [
       "AI_ELITE_7    53\n",
       "AI_ELITE_6    48\n",
       "AI_ELITE_4    48\n",
       "Name: batch, dtype: int64"
      ]
     },
     "execution_count": 5,
     "metadata": {},
     "output_type": "execute_result"
    }
   ],
   "source": [
    "df.batch.value_counts()"
   ]
  },
  {
   "cell_type": "markdown",
   "id": "7751c4c4",
   "metadata": {},
   "source": [
    "**There are 3 batches. batch  AI_ELITE_4, AI_ELITE_6 has 48 students and AI_ELITE_7 has 53 students.**"
   ]
  },
  {
   "cell_type": "code",
   "execution_count": null,
   "id": "3e5b6a34",
   "metadata": {},
   "outputs": [],
   "source": []
  },
  {
   "cell_type": "markdown",
   "id": "518baa3f",
   "metadata": {},
   "source": [
    "### Average score by each batch"
   ]
  },
  {
   "cell_type": "code",
   "execution_count": 6,
   "id": "5a7d755b",
   "metadata": {},
   "outputs": [
    {
     "data": {
      "text/plain": [
       "batch\n",
       "AI_ELITE_4    3.791667\n",
       "AI_ELITE_6    4.229167\n",
       "AI_ELITE_7    5.056604\n",
       "Name: score, dtype: float64"
      ]
     },
     "execution_count": 6,
     "metadata": {},
     "output_type": "execute_result"
    }
   ],
   "source": [
    "df.groupby('batch').score.mean()"
   ]
  },
  {
   "cell_type": "markdown",
   "id": "d0deacda",
   "metadata": {},
   "source": [
    "**Average score by AI_ELITE_4 batch is low ie just 3.8. and the average score by batch AI_ELITE_7 is high ie about 5.05.**"
   ]
  },
  {
   "cell_type": "code",
   "execution_count": null,
   "id": "428103c7",
   "metadata": {},
   "outputs": [],
   "source": []
  },
  {
   "cell_type": "markdown",
   "id": "0bc343df",
   "metadata": {},
   "source": [
    "### Distribution of scores"
   ]
  },
  {
   "cell_type": "code",
   "execution_count": 7,
   "id": "3d8cb104",
   "metadata": {},
   "outputs": [],
   "source": [
    "batch_4=df[df['batch']=='AI_ELITE_4']\n",
    "batch_6=df[df['batch']=='AI_ELITE_6']\n",
    "batch_7=df[df['batch']=='AI_ELITE_7']"
   ]
  },
  {
   "cell_type": "markdown",
   "id": "5cf95907",
   "metadata": {},
   "source": [
    "### Batch 4"
   ]
  },
  {
   "cell_type": "code",
   "execution_count": 36,
   "id": "5ffb2fa1",
   "metadata": {},
   "outputs": [
    {
     "name": "stdout",
     "output_type": "stream",
     "text": [
      "48\n",
      "3.7916666666666665\n",
      "1.4433756729740639\n"
     ]
    }
   ],
   "source": [
    "print(batch_4.batch.count())\n",
    "print(batch_4['score'].mean())\n",
    "print(batch_4['score'].std())"
   ]
  },
  {
   "cell_type": "code",
   "execution_count": 10,
   "id": "039c3297",
   "metadata": {},
   "outputs": [
    {
     "data": {
      "text/plain": [
       "4    19\n",
       "5     8\n",
       "3     8\n",
       "2     7\n",
       "7     3\n",
       "6     1\n",
       "1     1\n",
       "0     1\n",
       "Name: score, dtype: int64"
      ]
     },
     "execution_count": 10,
     "metadata": {},
     "output_type": "execute_result"
    }
   ],
   "source": [
    "batch_4['score'].value_counts()"
   ]
  },
  {
   "cell_type": "code",
   "execution_count": 23,
   "id": "199ea739",
   "metadata": {},
   "outputs": [
    {
     "data": {
      "text/plain": [
       "39.58333333333333"
      ]
     },
     "execution_count": 23,
     "metadata": {},
     "output_type": "execute_result"
    }
   ],
   "source": [
    "19/48*100"
   ]
  },
  {
   "cell_type": "code",
   "execution_count": 24,
   "id": "5bf15cc0",
   "metadata": {},
   "outputs": [
    {
     "data": {
      "text/plain": [
       "87.5"
      ]
     },
     "execution_count": 24,
     "metadata": {},
     "output_type": "execute_result"
    }
   ],
   "source": [
    "42/48*100"
   ]
  },
  {
   "cell_type": "markdown",
   "id": "5bc6b6ba",
   "metadata": {},
   "source": [
    "**19 out of 48 students, scored 4 marks out of 7 marks.**"
   ]
  },
  {
   "cell_type": "code",
   "execution_count": null,
   "id": "47f86227",
   "metadata": {},
   "outputs": [],
   "source": []
  },
  {
   "cell_type": "markdown",
   "id": "c4255912",
   "metadata": {},
   "source": [
    "### Batch 6"
   ]
  },
  {
   "cell_type": "code",
   "execution_count": 37,
   "id": "0c4af4fe",
   "metadata": {},
   "outputs": [
    {
     "name": "stdout",
     "output_type": "stream",
     "text": [
      "48\n",
      "4.229166666666667\n",
      "1.6404408246842614\n"
     ]
    }
   ],
   "source": [
    "print(batch_6.batch.count())\n",
    "print(batch_6['score'].mean())\n",
    "print(batch_6['score'].std())"
   ]
  },
  {
   "cell_type": "code",
   "execution_count": 11,
   "id": "7864d83b",
   "metadata": {},
   "outputs": [
    {
     "data": {
      "text/plain": [
       "5    13\n",
       "4    11\n",
       "3     9\n",
       "7     5\n",
       "6     4\n",
       "2     3\n",
       "1     2\n",
       "0     1\n",
       "Name: score, dtype: int64"
      ]
     },
     "execution_count": 11,
     "metadata": {},
     "output_type": "execute_result"
    }
   ],
   "source": [
    "batch_6['score'].value_counts()"
   ]
  },
  {
   "cell_type": "code",
   "execution_count": 27,
   "id": "01ee4388",
   "metadata": {},
   "outputs": [
    {
     "data": {
      "text/plain": [
       "47.91666666666667"
      ]
     },
     "execution_count": 27,
     "metadata": {},
     "output_type": "execute_result"
    }
   ],
   "source": [
    "23/48*100"
   ]
  },
  {
   "cell_type": "markdown",
   "id": "c39b6404",
   "metadata": {},
   "source": [
    "**Most of the Students obtained more than 2 marks.**"
   ]
  },
  {
   "cell_type": "code",
   "execution_count": null,
   "id": "bfc3680f",
   "metadata": {},
   "outputs": [],
   "source": []
  },
  {
   "cell_type": "markdown",
   "id": "32cbbbef",
   "metadata": {},
   "source": [
    "### Batch 7"
   ]
  },
  {
   "cell_type": "code",
   "execution_count": 38,
   "id": "498cd705",
   "metadata": {},
   "outputs": [
    {
     "name": "stdout",
     "output_type": "stream",
     "text": [
      "53\n",
      "5.056603773584905\n",
      "1.4466818046245138\n"
     ]
    }
   ],
   "source": [
    "print(batch_7.batch.count())\n",
    "print(batch_7['score'].mean())\n",
    "print(batch_7['score'].std())"
   ]
  },
  {
   "cell_type": "code",
   "execution_count": 12,
   "id": "31acff42",
   "metadata": {},
   "outputs": [
    {
     "data": {
      "text/plain": [
       "6    13\n",
       "5    11\n",
       "7    10\n",
       "4    10\n",
       "3     7\n",
       "2     2\n",
       "Name: score, dtype: int64"
      ]
     },
     "execution_count": 12,
     "metadata": {},
     "output_type": "execute_result"
    }
   ],
   "source": [
    "batch_7['score'].value_counts()"
   ]
  },
  {
   "cell_type": "code",
   "execution_count": 28,
   "id": "833aefe0",
   "metadata": {},
   "outputs": [
    {
     "data": {
      "text/plain": [
       "96.22641509433963"
      ]
     },
     "execution_count": 28,
     "metadata": {},
     "output_type": "execute_result"
    }
   ],
   "source": [
    "51/53*100"
   ]
  },
  {
   "cell_type": "markdown",
   "id": "9cd410da",
   "metadata": {},
   "source": [
    "**There are no students who obtained less than 2 marks. Most of the students marks are in the range of 3 to 7.**"
   ]
  },
  {
   "cell_type": "code",
   "execution_count": null,
   "id": "f2e35c9c",
   "metadata": {},
   "outputs": [],
   "source": []
  },
  {
   "cell_type": "code",
   "execution_count": null,
   "id": "eee0bf19",
   "metadata": {},
   "outputs": [],
   "source": []
  },
  {
   "cell_type": "code",
   "execution_count": null,
   "id": "944be0ac",
   "metadata": {},
   "outputs": [],
   "source": []
  },
  {
   "cell_type": "markdown",
   "id": "272e5c14",
   "metadata": {},
   "source": [
    "## Inference:\n",
    "### `1. There are 3 batches, AI_ELITE_4, AI_ELITE_6 and AI_ELITE_7.`\n",
    "\n",
    "### `2. Batch AI_ELITE_4 and AI_ELITE_6 has 48 students each and AI_ELITE_7 has 53 students.`\n",
    "\n",
    "### `3. Average score of AI_ELITE_4 batch is low ie just 3.8 marks, average score of AI_ELITE_6 is 4.22 marks and the average score of batch AI_ELITE_7 is high ie about 5.05 marks out of 7 marks.`\n",
    "\n",
    "### `4. 19 out of 48 students of batch 4 ie 39.6% students scored 4 marks out of 7 marks. Scores of  88% students in batch 4 is in the range from 2 to 5 marks.`\n",
    "\n",
    "### `5. 48% Students in batch 6 obtained marks between 3 and 5.`\n",
    "\n",
    "### `6. In the batch 7 None of the student got Zero and One marks, range of marks obtained by most of the students(96%) from 3 to 7, hence the average is high for this batch.`\n",
    "\n",
    "### `7. Students of Batch 7 are performing better than the rest two batches.`"
   ]
  },
  {
   "cell_type": "code",
   "execution_count": null,
   "id": "70dc830d",
   "metadata": {},
   "outputs": [],
   "source": []
  }
 ],
 "metadata": {
  "kernelspec": {
   "display_name": "python3.11",
   "language": "python",
   "name": "python3.11"
  },
  "language_info": {
   "codemirror_mode": {
    "name": "ipython",
    "version": 3
   },
   "file_extension": ".py",
   "mimetype": "text/x-python",
   "name": "python",
   "nbconvert_exporter": "python",
   "pygments_lexer": "ipython3",
   "version": "3.9.7"
  }
 },
 "nbformat": 4,
 "nbformat_minor": 5
}
